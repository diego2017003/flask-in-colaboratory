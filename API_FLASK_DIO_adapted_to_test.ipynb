{
  "cells": [
    {
      "cell_type": "markdown",
      "metadata": {
        "id": "view-in-github",
        "colab_type": "text"
      },
      "source": [
        "<a href=\"https://colab.research.google.com/github/diego2017003/flask-in-colaboratory/blob/main/API_FLASK_DIO_adapted_to_test.ipynb\" target=\"_parent\"><img src=\"https://colab.research.google.com/assets/colab-badge.svg\" alt=\"Open In Colab\"/></a>"
      ]
    },
    {
      "cell_type": "markdown",
      "metadata": {
        "id": "hpyZ2lR59o8v"
      },
      "source": [
        "**Como fazer a API Flask simples do zero no Google Colab?**\n",
        "\n"
      ]
    },
    {
      "cell_type": "code",
      "source": [
        "!pip install pyngrok"
      ],
      "metadata": {
        "colab": {
          "base_uri": "https://localhost:8080/"
        },
        "id": "urzhKq-aap0g",
        "outputId": "e6b238ad-6e28-4165-89c8-111fb2bcda09"
      },
      "execution_count": 1,
      "outputs": [
        {
          "output_type": "stream",
          "name": "stdout",
          "text": [
            "Requirement already satisfied: pyngrok in /usr/local/lib/python3.10/dist-packages (7.0.4)\n",
            "Requirement already satisfied: PyYAML in /usr/local/lib/python3.10/dist-packages (from pyngrok) (6.0.1)\n"
          ]
        }
      ]
    },
    {
      "cell_type": "code",
      "execution_count": 2,
      "metadata": {
        "colab": {
          "base_uri": "https://localhost:8080/"
        },
        "id": "2hXOwZw09b2S",
        "outputId": "da52594e-1d78-457b-b25f-9135d44e0b17"
      },
      "outputs": [
        {
          "output_type": "stream",
          "name": "stdout",
          "text": [
            "Requirement already satisfied: flask_ngrok in /usr/local/lib/python3.10/dist-packages (0.0.25)\n",
            "Requirement already satisfied: Flask>=0.8 in /usr/local/lib/python3.10/dist-packages (from flask_ngrok) (2.2.5)\n",
            "Requirement already satisfied: requests in /usr/local/lib/python3.10/dist-packages (from flask_ngrok) (2.31.0)\n",
            "Requirement already satisfied: Werkzeug>=2.2.2 in /usr/local/lib/python3.10/dist-packages (from Flask>=0.8->flask_ngrok) (3.0.1)\n",
            "Requirement already satisfied: Jinja2>=3.0 in /usr/local/lib/python3.10/dist-packages (from Flask>=0.8->flask_ngrok) (3.1.2)\n",
            "Requirement already satisfied: itsdangerous>=2.0 in /usr/local/lib/python3.10/dist-packages (from Flask>=0.8->flask_ngrok) (2.1.2)\n",
            "Requirement already satisfied: click>=8.0 in /usr/local/lib/python3.10/dist-packages (from Flask>=0.8->flask_ngrok) (8.1.7)\n",
            "Requirement already satisfied: charset-normalizer<4,>=2 in /usr/local/lib/python3.10/dist-packages (from requests->flask_ngrok) (3.3.2)\n",
            "Requirement already satisfied: idna<4,>=2.5 in /usr/local/lib/python3.10/dist-packages (from requests->flask_ngrok) (3.6)\n",
            "Requirement already satisfied: urllib3<3,>=1.21.1 in /usr/local/lib/python3.10/dist-packages (from requests->flask_ngrok) (2.0.7)\n",
            "Requirement already satisfied: certifi>=2017.4.17 in /usr/local/lib/python3.10/dist-packages (from requests->flask_ngrok) (2023.11.17)\n",
            "Requirement already satisfied: MarkupSafe>=2.0 in /usr/local/lib/python3.10/dist-packages (from Jinja2>=3.0->Flask>=0.8->flask_ngrok) (2.1.3)\n"
          ]
        }
      ],
      "source": [
        "!pip install flask_ngrok\n"
      ]
    },
    {
      "cell_type": "markdown",
      "metadata": {
        "id": "a0aPHPv9-ULV"
      },
      "source": [
        "Vamos importar as bibliotecas que usaremos,"
      ]
    },
    {
      "cell_type": "code",
      "execution_count": 3,
      "metadata": {
        "id": "gd4BQZgY-Pod"
      },
      "outputs": [],
      "source": [
        "import pandas as pd\n",
        "from flask_ngrok import run_with_ngrok\n",
        "from flask import request, jsonify, Flask\n",
        "import random as rk\n",
        "import threading"
      ]
    },
    {
      "cell_type": "code",
      "execution_count": 4,
      "metadata": {
        "id": "rGXIGaaJ-eiY"
      },
      "outputs": [],
      "source": [
        "app = Flask(__name__) #the name of the application package\n",
        "run_with_ngrok(app)"
      ]
    },
    {
      "cell_type": "code",
      "execution_count": 5,
      "metadata": {
        "id": "gQ8XIb3e-xn-"
      },
      "outputs": [],
      "source": [
        "@app.route(\"/\") #code to assign HomePage URL in our app to function home.\n",
        "\n",
        "def home():\n",
        "  '''\n",
        "  The entire line below must be written in a single line.\n",
        "  '''\n",
        "  return \"<marquee><h3> HEALTH CHECK Checking the API is running OK.</h3></marquee>\""
      ]
    },
    {
      "cell_type": "code",
      "execution_count": 6,
      "metadata": {
        "id": "4tFgZzp--mUA"
      },
      "outputs": [],
      "source": [
        "database = {\"data\":[{\n",
        "    \"number\":0,\n",
        "    \"name\": \"Mahesh\",\n",
        "    \"age\": 25,\n",
        "    \"city\":\"Bangalore\",\n",
        "    \"country\":\"India\",\n",
        "      },\n",
        "    {\n",
        "    \"number\":1,\n",
        "    \"name\": \"Alex\",\n",
        "    \"age\": 26,\n",
        "    \"city\":\"London\",\n",
        "    \"country\":\"UK\",\n",
        "      },\n",
        "                    {\n",
        "    \"number\":2,\n",
        "    \"name\": \"David\",\n",
        "    \"age\": 27,\n",
        "    \"city\":\"San Francisco\",\n",
        "    \"country\":\"USA\",\n",
        "      },\n",
        "    {\n",
        "    \"number\":3,\n",
        "    \"name\": \"John\",\n",
        "    \"age\": 28,\n",
        "    \"city\":\"Toronto\",\n",
        "    \"country\":\"Canada\",\n",
        "      },\n",
        "                    {\n",
        "    \"number\":4,\n",
        "    \"name\": \"Chris\",\n",
        "    \"age\": 29,\n",
        "    \"city\":\"Paris\",\n",
        "    \"country\":\"France\",\n",
        "      }\n",
        "                    ]}"
      ]
    },
    {
      "cell_type": "code",
      "execution_count": 7,
      "metadata": {
        "id": "RhOB_8NI-3x2"
      },
      "outputs": [],
      "source": [
        "@app.route(\"/get_full_data\", methods=['GET'])\n",
        "def get_data():\n",
        "  return jsonify(database) # database is the dataset required in question"
      ]
    },
    {
      "cell_type": "code",
      "execution_count": 8,
      "metadata": {
        "id": "leQIwJoF_Aal"
      },
      "outputs": [],
      "source": [
        "@app.route('/index', methods=['GET'])\n",
        "def hello_word():\n",
        " return \"<marquee><h1> HEALTH CHECK Checking the API is running OK.</h1></marquee>\"\n",
        "\n"
      ]
    },
    {
      "cell_type": "code",
      "source": [
        "if __name__ == '__main__':\n",
        "    app.run()"
      ],
      "metadata": {
        "id": "1zkXjfB6ZEk_"
      },
      "execution_count": null,
      "outputs": []
    }
  ],
  "metadata": {
    "colab": {
      "provenance": [],
      "include_colab_link": true
    },
    "kernelspec": {
      "display_name": "Python 3",
      "name": "python3"
    },
    "language_info": {
      "name": "python"
    }
  },
  "nbformat": 4,
  "nbformat_minor": 0
}